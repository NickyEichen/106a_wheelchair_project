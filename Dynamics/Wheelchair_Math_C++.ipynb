{
 "cells": [
  {
   "cell_type": "code",
   "execution_count": 1,
   "metadata": {},
   "outputs": [],
   "source": [
    "import numpy as np\n",
    "from sympy import *\n",
    "import sympy as sp\n",
    "init_printing()\n",
    "from sympy.physics.mechanics import dynamicsymbols, init_vprinting\n",
    "init_vprinting()"
   ]
  },
  {
   "cell_type": "code",
   "execution_count": 146,
   "metadata": {},
   "outputs": [],
   "source": [
    "a, b, a3, a4, b3, b4, c, rdw = symbols('a b a_3 a_4 b_3 b_4 c r_dw', type='real')\n",
    "m, g, I = symbols('m g I', type='real') # g is positive 9.8; I is around center of mass\n",
    "t3, t4, rc = symbols('theta_3 theta_4 r_c', type='real')\n",
    "v, w = dynamicsymbols('v omega')\n",
    "t = symbols('t')\n",
    "\n",
    "urc, urd, ut, eps = symbols('mu_rc mu_rd mu_tau epsilon')\n",
    "\n",
    "# COM And Weight Force\n",
    "Ox, Oy, Oz = symbols('O_x O_y O_z')\n",
    "O = Matrix([Ox, Oy, Oz])\n",
    "\n",
    "def rp_matrix(r, p):\n",
    "    Rx = Matrix([[1, 0, 0], [0, cos(r), -sin(r)], [0, sin(r), cos(r)]])\n",
    "    Ry = Matrix([[cos(p), 0, sin(p)], [0, 1, 0], [-sin(p), 0, cos(p)]])\n",
    "    return Ry*Rx\n",
    "\n",
    "roll, pitch = symbols('theta_roll, theta_pitch')\n",
    "Fg = rp_matrix(roll, pitch).T * (Matrix([0, 0, -m*g]))\n",
    "\n",
    "#Standard vectors:\n",
    "z_vec = Matrix([0,0,0])\n",
    "ivec = Matrix([1,0,0])\n",
    "jvec = Matrix([0,1,0])\n",
    "kvec = Matrix([0,0,1])"
   ]
  },
  {
   "cell_type": "code",
   "execution_count": 148,
   "metadata": {},
   "outputs": [],
   "source": [
    "# For keeping all variable definitions\n",
    "from sympy.printing.cxxcode import cxxcode\n",
    "def make_var_list():\n",
    "    strings = []\n",
    "    names = []\n",
    "\n",
    "    def vardef(name, xpr):\n",
    "        s = cxxcode(xpr, name)\n",
    "        if name in names:\n",
    "            ind = names.index(name)\n",
    "            strings[ind] = s\n",
    "        else:\n",
    "            strings.append(s)\n",
    "            names.append(name)\n",
    "        return s\n",
    "    \n",
    "    def add_manual(name, string):\n",
    "        if name in names:\n",
    "            ind = names.index(name)\n",
    "            strings[ind] = string\n",
    "        else:\n",
    "            strings.append(string)\n",
    "            names.append(name)\n",
    "        return string\n",
    "    \n",
    "    def get_all():\n",
    "        return strings\n",
    "    \n",
    "    return vardef, add_manual, get_all\n",
    "vardef, add_manual, get_all = make_var_list()"
   ]
  },
  {
   "cell_type": "markdown",
   "metadata": {},
   "source": [
    "# Normal Forces"
   ]
  },
  {
   "cell_type": "code",
   "execution_count": 149,
   "metadata": {},
   "outputs": [],
   "source": [
    "zo, theta, phi = symbols('z_o theta phi', type='real')\n",
    "k, n = symbols('k n', type='real')\n",
    "k1, k2 = k, n*k\n",
    "\n",
    "#z1 = zo + theta*x1 - phi*y1\n",
    "z1_xpr = zo + theta*c\n",
    "z2_xpr = zo + theta*(-c)\n",
    "\n",
    "#z3 = xo + theta*(x3) - phi*y3\n",
    "z3_xpr = zo + theta*(a3) - phi*(b3)\n",
    "z4_xpr = zo + theta*(-a4) - phi*(b4)\n",
    "\n",
    "#N_i = z_i * k_i\n",
    "N1 = -k1*z1_xpr\n",
    "N2 = -k1*z2_xpr\n",
    "N3 = -k2*z3_xpr\n",
    "N4 = -k2*z4_xpr\n",
    "\n",
    "N1 = N1.expand().collect([zo, theta, phi])\n",
    "N2 = N2.expand().collect([zo, theta, phi])\n",
    "N3 = N3.expand().collect([zo, theta, phi])\n",
    "N4 = N4.expand().collect([zo, theta, phi])"
   ]
  },
  {
   "cell_type": "code",
   "execution_count": 150,
   "metadata": {},
   "outputs": [],
   "source": [
    "W_z = -Fg.dot(kvec)\n",
    "Tnet_x = -O.cross(Fg).dot(ivec) - v.diff(t)*m*Oz**2\n",
    "Tnet_y =  -O.cross(Fg).dot(jvec) - m*w.diff(t)*Oz"
   ]
  },
  {
   "cell_type": "code",
   "execution_count": 151,
   "metadata": {},
   "outputs": [
    {
     "data": {
      "image/png": "[encoded data removed]",
      "text/latex": [
       "$$\\phi \\left(b_{3} k n + b_{4} k n\\right) + \\theta \\left(- a_{3} k n + a_{4} k n\\right) + z_{o} \\left(- 2 k n - 2 k\\right) = g m \\operatorname{cos}\\left(\\theta_{pitch}\\right) \\operatorname{cos}\\left(\\theta_{roll}\\right)$$"
      ],
      "text/plain": [
       "φ⋅(b₃⋅k⋅n + b₄⋅k⋅n) + θ⋅(-a₃⋅k⋅n + a₄⋅k⋅n) + zₒ⋅(-2⋅k⋅n - 2⋅k) = g⋅m⋅cos(θ_pit\n",
       "ch)⋅cos(θᵣₒₗₗ)"
      ]
     },
     "execution_count": 151,
     "metadata": {},
     "output_type": "execute_result"
    }
   ],
   "source": [
    "Line_1 = N1 + N2 + N3 + N4 # Equals Fw dot k_hat\n",
    "Line_1 = Line_1.expand().collect([zo, theta, phi])\n",
    "\n",
    "Eq_1 = Eq(Line_1, W_z)\n",
    "Eq_1"
   ]
  },
  {
   "cell_type": "code",
   "execution_count": 152,
   "metadata": {},
   "outputs": [
    {
     "data": {
      "image/png": "[encoded data removed]",
      "text/latex": [
       "$$\\phi \\left(- b_{3}^{2} k n - b_{4}^{2} k n\\right) + \\theta \\left(a_{3} b_{3} k n - a_{4} b_{4} k n\\right) + z_{o} \\left(b_{3} k n + b_{4} k n\\right) = O_{y} g m \\operatorname{cos}\\left(\\theta_{pitch}\\right) \\operatorname{cos}\\left(\\theta_{roll}\\right) - O_{z}^{2} m \\dot{v} - O_{z} g m \\operatorname{sin}\\left(\\theta_{roll}\\right) \\operatorname{cos}\\left(\\theta_{pitch}\\right)$$"
      ],
      "text/plain": [
       "  ⎛    2         2    ⎞                                                       \n",
       "φ⋅⎝- b₃ ⋅k⋅n - b₄ ⋅k⋅n⎠ + θ⋅(a₃⋅b₃⋅k⋅n - a₄⋅b₄⋅k⋅n) + zₒ⋅(b₃⋅k⋅n + b₄⋅k⋅n) = O\n",
       "\n",
       "                                    2                                       \n",
       "_y⋅g⋅m⋅cos(θ_pitch)⋅cos(θᵣₒₗₗ) - O_z ⋅m⋅v̇ - O_z⋅g⋅m⋅sin(θᵣₒₗₗ)⋅cos(θ_pitch)"
      ]
     },
     "execution_count": 152,
     "metadata": {},
     "output_type": "execute_result"
    }
   ],
   "source": [
    "Line_2 = -N3*b3 - N4*b4 # Equals -(O x Fg) dot i_hat + vdot * m *  O_z**2\n",
    "Line_2 = Line_2.expand().collect([zo, theta, phi])\n",
    "\n",
    "Eq_2 = Eq(Line_2, Tnet_x)\n",
    "Eq_2"
   ]
  },
  {
   "cell_type": "code",
   "execution_count": 153,
   "metadata": {},
   "outputs": [
    {
     "data": {
      "image/png": "[encoded data removed]",
      "text/latex": [
       "$$\\phi \\left(a_{3} b_{3} k n - a_{4} b_{4} k n\\right) + \\theta \\left(- a_{3}^{2} k n - a_{4}^{2} k n - 2 c^{2} k\\right) + z_{o} \\left(- a_{3} k n + a_{4} k n\\right) = - O_{x} g m \\operatorname{cos}\\left(\\theta_{pitch}\\right) \\operatorname{cos}\\left(\\theta_{roll}\\right) - O_{z} g m \\operatorname{sin}\\left(\\theta_{pitch}\\right) - O_{z} m \\dot{\\omega}$$"
      ],
      "text/plain": [
       "                              ⎛    2         2          2  ⎞                  \n",
       "φ⋅(a₃⋅b₃⋅k⋅n - a₄⋅b₄⋅k⋅n) + θ⋅⎝- a₃ ⋅k⋅n - a₄ ⋅k⋅n - 2⋅c ⋅k⎠ + zₒ⋅(-a₃⋅k⋅n + a\n",
       "\n",
       "                                                                          \n",
       "₄⋅k⋅n) = -Oₓ⋅g⋅m⋅cos(θ_pitch)⋅cos(θᵣₒₗₗ) - O_z⋅g⋅m⋅sin(θ_pitch) - O_z⋅m⋅ω̇"
      ]
     },
     "execution_count": 153,
     "metadata": {},
     "output_type": "execute_result"
    }
   ],
   "source": [
    "Line_3 = N1*c - N2*c + N3*a3 - N4*a4\n",
    "Line_3 = Line_3.expand().collect([zo, theta, phi])\n",
    "\n",
    "Eq_3 = Eq(Line_3, Tnet_y)\n",
    "Eq_3"
   ]
  },
  {
   "cell_type": "code",
   "execution_count": 154,
   "metadata": {
    "scrolled": true
   },
   "outputs": [
    {
     "data": {
      "text/latex": [
       "$$\\left[\\begin{matrix}\\frac{m \\left(g \\left(- n \\left(a_{3} b_{3} - a_{4} b_{4}\\right)^{2} + \\left(b_{3}^{2} + b_{4}^{2}\\right) \\left(a_{3}^{2} n + a_{4}^{2} n + 2 c^{2}\\right)\\right) \\operatorname{cos}\\left(\\theta_{pitch}\\right) \\operatorname{cos}\\left(\\theta_{roll}\\right) + n \\left(\\left(a_{3} - a_{4}\\right) \\left(b_{3}^{2} + b_{4}^{2}\\right) - \\left(b_{3} + b_{4}\\right) \\left(a_{3} b_{3} - a_{4} b_{4}\\right)\\right) \\left(O_{x} g \\operatorname{cos}\\left(\\theta_{pitch}\\right) \\operatorname{cos}\\left(\\theta_{roll}\\right) + O_{z} g \\operatorname{sin}\\left(\\theta_{pitch}\\right) + O_{z} \\dot{\\omega}\\right) + \\left(n \\left(a_{3} - a_{4}\\right) \\left(a_{3} b_{3} - a_{4} b_{4}\\right) - \\left(b_{3} + b_{4}\\right) \\left(a_{3}^{2} n + a_{4}^{2} n + 2 c^{2}\\right)\\right) \\left(- O_{y} g \\operatorname{cos}\\left(\\theta_{pitch}\\right) \\operatorname{cos}\\left(\\theta_{roll}\\right) + O_{z}^{2} \\dot{v} + O_{z} g \\operatorname{sin}\\left(\\theta_{roll}\\right) \\operatorname{cos}\\left(\\theta_{pitch}\\right)\\right)\\right)}{k \\left(n^{2} \\left(a_{3} - a_{4}\\right)^{2} \\left(b_{3}^{2} + b_{4}^{2}\\right) - 2 n^{2} \\left(a_{3} - a_{4}\\right) \\left(b_{3} + b_{4}\\right) \\left(a_{3} b_{3} - a_{4} b_{4}\\right) + n \\left(b_{3} + b_{4}\\right)^{2} \\left(a_{3}^{2} n + a_{4}^{2} n + 2 c^{2}\\right) + 2 n \\left(n + 1\\right) \\left(a_{3} b_{3} - a_{4} b_{4}\\right)^{2} - 2 \\left(b_{3}^{2} + b_{4}^{2}\\right) \\left(n + 1\\right) \\left(a_{3}^{2} n + a_{4}^{2} n + 2 c^{2}\\right)\\right)}\\\\\\frac{m \\left(- g n \\left(\\left(a_{3} - a_{4}\\right) \\left(b_{3}^{2} + b_{4}^{2}\\right) - \\left(b_{3} + b_{4}\\right) \\left(a_{3} b_{3} - a_{4} b_{4}\\right)\\right) \\operatorname{cos}\\left(\\theta_{pitch}\\right) \\operatorname{cos}\\left(\\theta_{roll}\\right) + \\left(n \\left(b_{3} + b_{4}\\right)^{2} - 2 \\left(b_{3}^{2} + b_{4}^{2}\\right) \\left(n + 1\\right)\\right) \\left(O_{x} g \\operatorname{cos}\\left(\\theta_{pitch}\\right) \\operatorname{cos}\\left(\\theta_{roll}\\right) + O_{z} g \\operatorname{sin}\\left(\\theta_{pitch}\\right) + O_{z} \\dot{\\omega}\\right) + \\left(n \\left(a_{3} - a_{4}\\right) \\left(b_{3} + b_{4}\\right) - 2 \\left(n + 1\\right) \\left(a_{3} b_{3} - a_{4} b_{4}\\right)\\right) \\left(- O_{y} g \\operatorname{cos}\\left(\\theta_{pitch}\\right) \\operatorname{cos}\\left(\\theta_{roll}\\right) + O_{z}^{2} \\dot{v} + O_{z} g \\operatorname{sin}\\left(\\theta_{roll}\\right) \\operatorname{cos}\\left(\\theta_{pitch}\\right)\\right)\\right)}{k \\left(n^{2} \\left(a_{3} - a_{4}\\right)^{2} \\left(b_{3}^{2} + b_{4}^{2}\\right) - 2 n^{2} \\left(a_{3} - a_{4}\\right) \\left(b_{3} + b_{4}\\right) \\left(a_{3} b_{3} - a_{4} b_{4}\\right) + n \\left(b_{3} + b_{4}\\right)^{2} \\left(a_{3}^{2} n + a_{4}^{2} n + 2 c^{2}\\right) + 2 n \\left(n + 1\\right) \\left(a_{3} b_{3} - a_{4} b_{4}\\right)^{2} - 2 \\left(b_{3}^{2} + b_{4}^{2}\\right) \\left(n + 1\\right) \\left(a_{3}^{2} n + a_{4}^{2} n + 2 c^{2}\\right)\\right)}\\\\\\frac{m \\left(- g n \\left(n \\left(a_{3} - a_{4}\\right) \\left(a_{3} b_{3} - a_{4} b_{4}\\right) - \\left(b_{3} + b_{4}\\right) \\left(a_{3}^{2} n + a_{4}^{2} n + 2 c^{2}\\right)\\right) \\operatorname{cos}\\left(\\theta_{pitch}\\right) \\operatorname{cos}\\left(\\theta_{roll}\\right) - n \\left(- n \\left(a_{3} - a_{4}\\right) \\left(b_{3} + b_{4}\\right) + 2 \\left(n + 1\\right) \\left(a_{3} b_{3} - a_{4} b_{4}\\right)\\right) \\left(O_{x} g \\operatorname{cos}\\left(\\theta_{pitch}\\right) \\operatorname{cos}\\left(\\theta_{roll}\\right) + O_{z} g \\operatorname{sin}\\left(\\theta_{pitch}\\right) + O_{z} \\dot{\\omega}\\right) + \\left(n^{2} \\left(a_{3} - a_{4}\\right)^{2} - 2 \\left(n + 1\\right) \\left(a_{3}^{2} n + a_{4}^{2} n + 2 c^{2}\\right)\\right) \\left(- O_{y} g \\operatorname{cos}\\left(\\theta_{pitch}\\right) \\operatorname{cos}\\left(\\theta_{roll}\\right) + O_{z}^{2} \\dot{v} + O_{z} g \\operatorname{sin}\\left(\\theta_{roll}\\right) \\operatorname{cos}\\left(\\theta_{pitch}\\right)\\right)\\right)}{k n \\left(n^{2} \\left(a_{3} - a_{4}\\right)^{2} \\left(b_{3}^{2} + b_{4}^{2}\\right) - 2 n^{2} \\left(a_{3} - a_{4}\\right) \\left(b_{3} + b_{4}\\right) \\left(a_{3} b_{3} - a_{4} b_{4}\\right) + n \\left(b_{3} + b_{4}\\right)^{2} \\left(a_{3}^{2} n + a_{4}^{2} n + 2 c^{2}\\right) + 2 n \\left(n + 1\\right) \\left(a_{3} b_{3} - a_{4} b_{4}\\right)^{2} - 2 \\left(b_{3}^{2} + b_{4}^{2}\\right) \\left(n + 1\\right) \\left(a_{3}^{2} n + a_{4}^{2} n + 2 c^{2}\\right)\\right)}\\end{matrix}\\right]$$"
      ],
      "text/plain": [
       "⎡  ⎛  ⎛                   2   ⎛  2     2⎞ ⎛  2       2        2⎞⎞             \n",
       "⎢m⋅⎝g⋅⎝- n⋅(a₃⋅b₃ - a₄⋅b₄)  + ⎝b₃  + b₄ ⎠⋅⎝a₃ ⋅n + a₄ ⋅n + 2⋅c ⎠⎠⋅cos(θ_pitch)\n",
       "⎢─────────────────────────────────────────────────────────────────────────────\n",
       "⎢                                                                             \n",
       "⎢                                                                             \n",
       "⎢                                                                             \n",
       "⎢                  ⎛      ⎛          ⎛  2     2⎞                            ⎞ \n",
       "⎢                m⋅⎝- g⋅n⋅⎝(a₃ - a₄)⋅⎝b₃  + b₄ ⎠ - (b₃ + b₄)⋅(a₃⋅b₃ - a₄⋅b₄)⎠⋅\n",
       "⎢                ─────────────────────────────────────────────────────────────\n",
       "⎢                                                                             \n",
       "⎢                                                                             \n",
       "⎢                                                                             \n",
       "⎢    ⎛      ⎛                                        ⎛  2       2        2⎞⎞  \n",
       "⎢  m⋅⎝- g⋅n⋅⎝n⋅(a₃ - a₄)⋅(a₃⋅b₃ - a₄⋅b₄) - (b₃ + b₄)⋅⎝a₃ ⋅n + a₄ ⋅n + 2⋅c ⎠⎠⋅c\n",
       "⎢  ───────────────────────────────────────────────────────────────────────────\n",
       "⎢                                                                             \n",
       "⎣                                                                             \n",
       "\n",
       "                ⎛          ⎛  2     2⎞                            ⎞           \n",
       "⋅cos(θᵣₒₗₗ) + n⋅⎝(a₃ - a₄)⋅⎝b₃  + b₄ ⎠ - (b₃ + b₄)⋅(a₃⋅b₃ - a₄⋅b₄)⎠⋅(Oₓ⋅g⋅cos(\n",
       "──────────────────────────────────────────────────────────────────────────────\n",
       "     ⎛ 2          2 ⎛  2     2⎞      2                                        \n",
       "   k⋅⎝n ⋅(a₃ - a₄) ⋅⎝b₃  + b₄ ⎠ - 2⋅n ⋅(a₃ - a₄)⋅(b₃ + b₄)⋅(a₃⋅b₃ - a₄⋅b₄) + n\n",
       "                                                                              \n",
       "                          ⎛           2     ⎛  2     2⎞        ⎞              \n",
       "cos(θ_pitch)⋅cos(θᵣₒₗₗ) + ⎝n⋅(b₃ + b₄)  - 2⋅⎝b₃  + b₄ ⎠⋅(n + 1)⎠⋅(Oₓ⋅g⋅cos(θ_p\n",
       "──────────────────────────────────────────────────────────────────────────────\n",
       "     ⎛ 2          2 ⎛  2     2⎞      2                                        \n",
       "   k⋅⎝n ⋅(a₃ - a₄) ⋅⎝b₃  + b₄ ⎠ - 2⋅n ⋅(a₃ - a₄)⋅(b₃ + b₄)⋅(a₃⋅b₃ - a₄⋅b₄) + n\n",
       "                                                                              \n",
       "                                                                              \n",
       "os(θ_pitch)⋅cos(θᵣₒₗₗ) - n⋅(-n⋅(a₃ - a₄)⋅(b₃ + b₄) + 2⋅(n + 1)⋅(a₃⋅b₃ - a₄⋅b₄)\n",
       "──────────────────────────────────────────────────────────────────────────────\n",
       "      ⎛ 2          2 ⎛  2     2⎞      2                                       \n",
       "  k⋅n⋅⎝n ⋅(a₃ - a₄) ⋅⎝b₃  + b₄ ⎠ - 2⋅n ⋅(a₃ - a₄)⋅(b₃ + b₄)⋅(a₃⋅b₃ - a₄⋅b₄) + \n",
       "\n",
       "                                                     ⎛                        \n",
       "θ_pitch)⋅cos(θᵣₒₗₗ) + O_z⋅g⋅sin(θ_pitch) + O_z⋅ω̇) + ⎝n⋅(a₃ - a₄)⋅(a₃⋅b₃ - a₄⋅\n",
       "──────────────────────────────────────────────────────────────────────────────\n",
       "          2 ⎛  2       2        2⎞                              2     ⎛  2    \n",
       "⋅(b₃ + b₄) ⋅⎝a₃ ⋅n + a₄ ⋅n + 2⋅c ⎠ + 2⋅n⋅(n + 1)⋅(a₃⋅b₃ - a₄⋅b₄)  - 2⋅⎝b₃  + b\n",
       "                                                                              \n",
       "                                                                              \n",
       "itch)⋅cos(θᵣₒₗₗ) + O_z⋅g⋅sin(θ_pitch) + O_z⋅ω̇) + (n⋅(a₃ - a₄)⋅(b₃ + b₄) - 2⋅(\n",
       "──────────────────────────────────────────────────────────────────────────────\n",
       "          2 ⎛  2       2        2⎞                              2     ⎛  2    \n",
       "⋅(b₃ + b₄) ⋅⎝a₃ ⋅n + a₄ ⋅n + 2⋅c ⎠ + 2⋅n⋅(n + 1)⋅(a₃⋅b₃ - a₄⋅b₄)  - 2⋅⎝b₃  + b\n",
       "                                                                              \n",
       "                                                                 ⎛ 2          \n",
       ")⋅(Oₓ⋅g⋅cos(θ_pitch)⋅cos(θᵣₒₗₗ) + O_z⋅g⋅sin(θ_pitch) + O_z⋅ω̇) + ⎝n ⋅(a₃ - a₄)\n",
       "──────────────────────────────────────────────────────────────────────────────\n",
       "           2 ⎛  2       2        2⎞                              2     ⎛  2   \n",
       "n⋅(b₃ + b₄) ⋅⎝a₃ ⋅n + a₄ ⋅n + 2⋅c ⎠ + 2⋅n⋅(n + 1)⋅(a₃⋅b₃ - a₄⋅b₄)  - 2⋅⎝b₃  + \n",
       "\n",
       "                ⎛  2       2        2⎞⎞ ⎛                                    2\n",
       "b₄) - (b₃ + b₄)⋅⎝a₃ ⋅n + a₄ ⋅n + 2⋅c ⎠⎠⋅⎝-O_y⋅g⋅cos(θ_pitch)⋅cos(θᵣₒₗₗ) + O_z \n",
       "──────────────────────────────────────────────────────────────────────────────\n",
       " 2⎞         ⎛  2       2        2⎞⎞                                           \n",
       "₄ ⎠⋅(n + 1)⋅⎝a₃ ⋅n + a₄ ⋅n + 2⋅c ⎠⎠                                           \n",
       "                                                                              \n",
       "                        ⎛                                    2                \n",
       "n + 1)⋅(a₃⋅b₃ - a₄⋅b₄))⋅⎝-O_y⋅g⋅cos(θ_pitch)⋅cos(θᵣₒₗₗ) + O_z ⋅v̇ + O_z⋅g⋅sin(\n",
       "──────────────────────────────────────────────────────────────────────────────\n",
       " 2⎞         ⎛  2       2        2⎞⎞                                           \n",
       "₄ ⎠⋅(n + 1)⋅⎝a₃ ⋅n + a₄ ⋅n + 2⋅c ⎠⎠                                           \n",
       "                                                                              \n",
       "2             ⎛  2       2        2⎞⎞ ⎛                                    2  \n",
       "  - 2⋅(n + 1)⋅⎝a₃ ⋅n + a₄ ⋅n + 2⋅c ⎠⎠⋅⎝-O_y⋅g⋅cos(θ_pitch)⋅cos(θᵣₒₗₗ) + O_z ⋅v\n",
       "──────────────────────────────────────────────────────────────────────────────\n",
       "  2⎞         ⎛  2       2        2⎞⎞                                          \n",
       "b₄ ⎠⋅(n + 1)⋅⎝a₃ ⋅n + a₄ ⋅n + 2⋅c ⎠⎠                                          \n",
       "\n",
       "                                   ⎞⎞⎤\n",
       "⋅v̇ + O_z⋅g⋅sin(θᵣₒₗₗ)⋅cos(θ_pitch)⎠⎠⎥\n",
       "─────────────────────────────────────⎥\n",
       "                                     ⎥\n",
       "                                     ⎥\n",
       "                                     ⎥\n",
       "                   ⎞⎞                ⎥\n",
       "θᵣₒₗₗ)⋅cos(θ_pitch)⎠⎠                ⎥\n",
       "─────────────────────                ⎥\n",
       "                                     ⎥\n",
       "                                     ⎥\n",
       "                                     ⎥\n",
       "                                 ⎞⎞  ⎥\n",
       "̇ + O_z⋅g⋅sin(θᵣₒₗₗ)⋅cos(θ_pitch)⎠⎠  ⎥\n",
       "───────────────────────────────────  ⎥\n",
       "                                     ⎥\n",
       "                                     ⎦"
      ]
     },
     "execution_count": 154,
     "metadata": {},
     "output_type": "execute_result"
    }
   ],
   "source": [
    "solns = solve([Eq_1, Eq_2, Eq_3], [zo, theta, phi])\n",
    "\n",
    "phi_expr = solns[phi]\n",
    "theta_expr = solns[theta]\n",
    "zo_expr = solns[zo]\n",
    "\n",
    "q = Matrix([[zo_expr], [theta_expr], [phi_expr]])\n",
    "q"
   ]
  },
  {
   "cell_type": "code",
   "execution_count": 155,
   "metadata": {},
   "outputs": [
    {
     "data": {
      "text/plain": [
       "'N_4 = a_4*k*n*theta + b_4*k*n*phi - k*n*z_o;'"
      ]
     },
     "execution_count": 155,
     "metadata": {},
     "output_type": "execute_result"
    }
   ],
   "source": [
    "add_manual('a_3', \"a_3 = a + r_c * std::cos(theta_3)\")\n",
    "add_manual('a_4', \"a_4 = a + r_c * std::cos(theta_4)\")\n",
    "add_manual('b_3', \"b_3 = b - r_c * std::sin(theta_3)\") # MINUS rc*sin(theta_3) because b is a in the negative direction\n",
    "add_manual('b_4', \"b_4 = b - r_c * std::sin(theta_4)\") # MINUS because b is in negative direction\n",
    "\n",
    "vardef(\"zo\", zo_expr)\n",
    "vardef(\"theta\", theta_expr)\n",
    "vardef(\"phi\", phi_expr)\n",
    "\n",
    "vardef(\"N_1\", N1)\n",
    "vardef(\"N_2\", N2)\n",
    "vardef(\"N_3\", N3)\n",
    "vardef(\"N_4\", N4)"
   ]
  },
  {
   "cell_type": "markdown",
   "metadata": {},
   "source": [
    "# Castors"
   ]
  },
  {
   "cell_type": "code",
   "execution_count": 40,
   "metadata": {},
   "outputs": [],
   "source": [
    "#Remake normal force scalars as symbols\n",
    "N1, N2, N3, N4 = symbols('N_1 N_2 N_3 N_4', type='real')\n",
    "\n",
    "rc3 = Matrix([rc*cos(t3), rc*sin(t3), 0])\n",
    "rc4 = Matrix([rc*cos(t4), rc*sin(t4), 0])\n",
    "v3 = Matrix([b*w, v - a*w, 0])\n",
    "v4 = Matrix([b*w, v + a*w, 0])"
   ]
  },
  {
   "cell_type": "code",
   "execution_count": 121,
   "metadata": {},
   "outputs": [],
   "source": [
    "# Rolling Friction Terms\n",
    "s_f3_xpr = Piecewise((0, v3.dot(v3) < eps), ((rc3.dot(v3) / (rc * sqrt(v3.dot(v3)))).simplify(), True))\n",
    "s_f4_xpr = Piecewise((0, v4.dot(v4) < eps), ((rc4.dot(v4) / (rc * sqrt(v4.dot(v4)))).simplify(), True))\n",
    "s_f3, s_f4 = symbols('s_f3 s_f4')\n",
    "\n",
    "Rf3_xpr = Piecewise((-rc3/rc * urc*N3, s_f3 > eps), (rc3/rc * urc*N3, s_f3 < -eps), (z_vec, True))\n",
    "Rf4_xpr = Piecewise((-rc4/rc * urc*N4, s_f4 > eps), (rc4/rc * urc*N4, s_f4 < -eps), (z_vec, True))\n",
    "\n",
    "Rf3x_xpr = Piecewise(((-rc3/rc * urc*N3).dot(ivec), s_f3 > eps), ((rc3/rc * urc*N3).dot(ivec), s_f3 < -eps), (0, True))\n",
    "Rf3y_xpr = Piecewise(((-rc3/rc * urc*N3).dot(jvec), s_f3 > eps), ((rc3/rc * urc*N3).dot(jvec), s_f3 < -eps), (0, True))\n",
    "Rf4x_xpr = Piecewise(((-rc4/rc * urc*N4).dot(ivec), s_f4 > eps), ((rc4/rc * urc*N4).dot(ivec), s_f4 < -eps), (0, True))\n",
    "Rf4y_xpr = Piecewise(((-rc4/rc * urc*N4).dot(jvec), s_f4 > eps), ((rc4/rc * urc*N4).dot(jvec), s_f4 < -eps), (0, True))"
   ]
  },
  {
   "cell_type": "code",
   "execution_count": 119,
   "metadata": {},
   "outputs": [],
   "source": [
    "# Friction Torque Terms\n",
    "s_t3_xpr = Piecewise((0, v3.dot(v3) < eps), ((rc3.cross(v3)/(rc*sqrt(v3.dot(v3)))).dot(kvec), True))\n",
    "s_t4_xpr = Piecewise((0, v3.dot(v3) < eps), ((rc4.cross(v4)/(rc*sqrt(v4.dot(v4)))).dot(kvec), True))\n",
    "s_t3, s_t4 = symbols('s_t3 s_t4')\n",
    "#Rt3_xpr = Piecewise((-ut*N3 * (rc3.cross(kvec)/rc), s_t3 < -eps), (ut*N3 * (rc3.cross(kvec)/rc), s_t3 > eps), (z_vec, True))\n",
    "#Rt4_xpr = Piecewise((-ut*N4 * (rc4.cross(kvec)/rc), s_t4 < -eps), (ut*N4 * (rc4.cross(kvec)/rc), s_t4 > eps), (z_vec, True))\n",
    "\n",
    "Rt3x_xpr = Piecewise(((-ut*N3 * (rc3.cross(kvec)/rc)).dot(ivec), s_t3 < -eps), ((ut*N3 * (rc3.cross(kvec)/rc)).dot(ivec), s_t3 > eps), (0, True))\n",
    "Rt3y_xpr = Piecewise(((-ut*N4 * (rc4.cross(kvec)/rc)).dot(jvec), s_t4 < -eps), ((ut*N4 * (rc4.cross(kvec)/rc)).dot(jvec), s_t4 > eps), (0, True))\n",
    "Rt4x_xpr = Piecewise(((-ut*N4 * (rc4.cross(kvec)/rc)).dot(ivec), s_t4 < -eps), ((ut*N4 * (rc4.cross(kvec)/rc)).dot(ivec), s_t4 > eps), (0, True))\n",
    "Rt4y_xpr = Piecewise(((-ut*N4 * (rc4.cross(kvec)/rc)).dot(jvec), s_t4 < -eps), ((ut*N4 * (rc4.cross(kvec)/rc)).dot(jvec), s_t4 > eps), (0, True))"
   ]
  },
  {
   "cell_type": "code",
   "execution_count": 158,
   "metadata": {},
   "outputs": [
    {
     "data": {
      "text/plain": [
       "'R_4y = ((s_f4 > epsilon) ? (\\n   -N_4*mu_rc*sin(theta_4)\\n)\\n: ((s_f4 < -epsilon) ? (\\n   N_4*mu_rc*sin(theta_4)\\n)\\n: (\\n   0\\n))) + ((s_t4 < -epsilon) ? (\\n   N_4*mu_tau*cos(theta_4)\\n)\\n: ((s_t4 > epsilon) ? (\\n   -N_4*mu_tau*cos(theta_4)\\n)\\n: (\\n   0\\n)));'"
      ]
     },
     "execution_count": 158,
     "metadata": {},
     "output_type": "execute_result"
    }
   ],
   "source": [
    "vardef(\"s_f3\", s_f3_xpr)\n",
    "vardef(\"s_t3\", s_t3_xpr)\n",
    "\n",
    "vardef(\"s_f4\", s_f4_xpr)\n",
    "vardef(\"s_t4\", s_t4_xpr)\n",
    "\n",
    "vardef(\"R_3x\", Rf3x_xpr + Rt3x_xpr)\n",
    "vardef(\"R_3y\", Rf3y_xpr + Rt3y_xpr)\n",
    "vardef(\"R_4x\", Rf4x_xpr + Rt4x_xpr)\n",
    "vardef(\"R_4y\", Rf4y_xpr + Rt4y_xpr)"
   ]
  },
  {
   "cell_type": "markdown",
   "metadata": {},
   "source": [
    "# Dynamics"
   ]
  },
  {
   "cell_type": "code",
   "execution_count": 44,
   "metadata": {},
   "outputs": [],
   "source": [
    "#p1, p2, p3, p4, O = symbols('p_1 p_2 p_3 p_4 O')\n",
    "#Fw1, Fw2, Fs1, Fs2, Fn1, Fn2, Fn3, Fn4, Fg = symbols('F_w1 F_w2 F_s1 F_s2 F_N1 F_N2 F_N3 F_N4 F_g')\n",
    "\n",
    "R3x, R3y, R4x, R4y = symbols('R_3x R_3y R_4x R_4y')\n",
    "\n",
    "p1 = Matrix([-c, 0, 0])\n",
    "p2 = Matrix([c, 0, 0])\n",
    "p3 = Matrix([-a, -b, 0])\n",
    "p4 = Matrix([a, -b, 0]) \n",
    "\n",
    "ap1, ap2, bt1, bt2 = symbols('alpha_1 alpha_2 beta_1 beta_2')\n",
    "\n",
    "Fw1 = Matrix([0, ap1, 0])\n",
    "Fw2 = Matrix([0, ap2, 0])\n",
    "Fs1 = Matrix([bt1, 0, 0])\n",
    "Fs2 = Matrix([bt2, 0, 0])\n",
    "Fn1 = Matrix([0, 0, N1])\n",
    "Fn2 = Matrix([0, 0, N2])\n",
    "Fn3 = Matrix([0, 0, N3])\n",
    "Fn4 = Matrix([0, 0, N4])\n",
    "R3 = Matrix([R3x, R3y, 0])\n",
    "R4 = Matrix([R4x, R4y, 0])"
   ]
  },
  {
   "cell_type": "code",
   "execution_count": 45,
   "metadata": {},
   "outputs": [
    {
     "data": {
      "text/latex": [
       "$$\\left[\\begin{matrix}R_{3x} + R_{4x} + \\beta_{1} + \\beta_{2} + g m \\operatorname{sin}\\left(\\theta_{pitch}\\right)\\\\R_{3y} + R_{4y} + \\alpha_{1} + \\alpha_{2} - g m \\operatorname{sin}\\left(\\theta_{roll}\\right) \\operatorname{cos}\\left(\\theta_{pitch}\\right)\\\\N_{1} + N_{2} + N_{3} + N_{4} - g m \\operatorname{cos}\\left(\\theta_{pitch}\\right) \\operatorname{cos}\\left(\\theta_{roll}\\right)\\end{matrix}\\right] = \\left[\\begin{matrix}O_{y}^{2} m \\dot{\\omega}\\\\m \\dot{v}\\\\0\\end{matrix}\\right]$$"
      ],
      "text/plain": [
       "                                                        ⎡   2     ⎤\n",
       "⎡      R₃ₓ + R₄ₓ + β₁ + β₂ + g⋅m⋅sin(θ_pitch)       ⎤   ⎢O_y ⋅m⋅ω̇⎥\n",
       "⎢                                                   ⎥   ⎢         ⎥\n",
       "⎢R_3y + R_4y + α₁ + α₂ - g⋅m⋅sin(θᵣₒₗₗ)⋅cos(θ_pitch)⎥ = ⎢  m⋅v̇   ⎥\n",
       "⎢                                                   ⎥   ⎢         ⎥\n",
       "⎣  N₁ + N₂ + N₃ + N₄ - g⋅m⋅cos(θ_pitch)⋅cos(θᵣₒₗₗ)  ⎦   ⎣    0    ⎦"
      ]
     },
     "execution_count": 45,
     "metadata": {},
     "output_type": "execute_result"
    }
   ],
   "source": [
    "# Sum of Forces\n",
    "F_LHS = Fw1 + Fw2 + Fs1 + Fs2 + Fn1 + Fn2 + Fn3 + Fn4 + Fg + R3 + R4\n",
    "F_RHS = Matrix([w.diff(t)*Oy**2*m, v.diff(t)*m, 0])\n",
    "Eq(F_LHS, F_RHS)"
   ]
  },
  {
   "cell_type": "code",
   "execution_count": 46,
   "metadata": {},
   "outputs": [
    {
     "data": {
      "text/latex": [
       "$$\\left[\\begin{matrix}- N_{3} b - N_{4} b - O_{y} g m \\operatorname{cos}\\left(\\theta_{pitch}\\right) \\operatorname{cos}\\left(\\theta_{roll}\\right) + O_{z} g m \\operatorname{sin}\\left(\\theta_{roll}\\right) \\operatorname{cos}\\left(\\theta_{pitch}\\right)\\\\N_{1} c - N_{2} c + N_{3} a - N_{4} a + O_{x} g m \\operatorname{cos}\\left(\\theta_{pitch}\\right) \\operatorname{cos}\\left(\\theta_{roll}\\right) + O_{z} g m \\operatorname{sin}\\left(\\theta_{pitch}\\right)\\\\- O_{x} g m \\operatorname{sin}\\left(\\theta_{roll}\\right) \\operatorname{cos}\\left(\\theta_{pitch}\\right) - O_{y} g m \\operatorname{sin}\\left(\\theta_{pitch}\\right) + R_{3x} b - R_{3y} a + R_{4x} b + R_{4y} a - \\alpha_{1} c + \\alpha_{2} c\\end{matrix}\\right] = \\left[\\begin{matrix}O_{z}^{2} m \\dot{v}\\\\0\\\\I \\dot{\\omega}\\end{matrix}\\right]$$"
      ],
      "text/plain": [
       "                                                                              \n",
       "⎡           -N₃⋅b - N₄⋅b - O_y⋅g⋅m⋅cos(θ_pitch)⋅cos(θᵣₒₗₗ) + O_z⋅g⋅m⋅sin(θᵣₒₗₗ\n",
       "⎢                                                                             \n",
       "⎢          N₁⋅c - N₂⋅c + N₃⋅a - N₄⋅a + Oₓ⋅g⋅m⋅cos(θ_pitch)⋅cos(θᵣₒₗₗ) + O_z⋅g⋅\n",
       "⎢                                                                             \n",
       "⎣-Oₓ⋅g⋅m⋅sin(θᵣₒₗₗ)⋅cos(θ_pitch) - O_y⋅g⋅m⋅sin(θ_pitch) + R₃ₓ⋅b - R_3y⋅a + R₄ₓ\n",
       "\n",
       "                             ⎡   2     ⎤\n",
       ")⋅cos(θ_pitch)           ⎤   ⎢O_z ⋅m⋅v̇⎥\n",
       "                         ⎥   ⎢         ⎥\n",
       "m⋅sin(θ_pitch)           ⎥ = ⎢    0    ⎥\n",
       "                         ⎥   ⎢         ⎥\n",
       "⋅b + R_4y⋅a - α₁⋅c + α₂⋅c⎦   ⎣  I⋅ω̇   ⎦"
      ]
     },
     "execution_count": 46,
     "metadata": {},
     "output_type": "execute_result"
    }
   ],
   "source": [
    "M_LHS = p1.cross(Fw1) + p2.cross(Fw2) + p1.cross(Fs1) + p2.cross(Fs2) + O.cross(Fg) + p1.cross(Fn1) + p2.cross(Fn2) + p3.cross(Fn3) + p4.cross(Fn4) + p3.cross(R3) + p4.cross(R4)\n",
    "M_RHS = Matrix([v.diff(t)*m*Oz**2, 0, I*w.diff(t)])\n",
    "Eq(M_LHS, M_RHS)"
   ]
  },
  {
   "cell_type": "code",
   "execution_count": 47,
   "metadata": {},
   "outputs": [
    {
     "data": {
      "image/png": "[encoded data removed]",
      "text/latex": [
       "$$\\left ( R_{3y} + R_{4y} + \\alpha_{1} + \\alpha_{2} - g m \\operatorname{sin}\\left(\\theta_{roll}\\right) \\operatorname{cos}\\left(\\theta_{pitch}\\right) = m \\dot{v}, \\quad - O_{x} g m \\operatorname{sin}\\left(\\theta_{roll}\\right) \\operatorname{cos}\\left(\\theta_{pitch}\\right) - O_{y} g m \\operatorname{sin}\\left(\\theta_{pitch}\\right) + R_{3x} b - R_{3y} a + R_{4x} b + R_{4y} a - \\alpha_{1} c + \\alpha_{2} c = I \\dot{\\omega}\\right )$$"
      ],
      "text/plain": [
       "(R_3y + R_4y + α₁ + α₂ - g⋅m⋅sin(θᵣₒₗₗ)⋅cos(θ_pitch) = m⋅v̇, -Oₓ⋅g⋅m⋅sin(θᵣₒₗₗ\n",
       ")⋅cos(θ_pitch) - O_y⋅g⋅m⋅sin(θ_pitch) + R₃ₓ⋅b - R_3y⋅a + R₄ₓ⋅b + R_4y⋅a - α₁⋅c\n",
       " + α₂⋅c = I⋅ω̇)"
      ]
     },
     "execution_count": 47,
     "metadata": {},
     "output_type": "execute_result"
    }
   ],
   "source": [
    "eq1 = Eq(F_LHS[1], F_RHS[1]) #Pick equation of Fy\n",
    "eq2 = Eq(M_LHS[2], M_RHS[2]) # Pick equation of Mz\n",
    "eq1, eq2"
   ]
  },
  {
   "cell_type": "code",
   "execution_count": 48,
   "metadata": {},
   "outputs": [],
   "source": [
    "ap_dict = solve([eq1, eq2], [ap1, ap2])\n",
    "ap1_xpr = ap_dict[ap1]\n",
    "ap2_xpr = ap_dict[ap2]"
   ]
  },
  {
   "cell_type": "code",
   "execution_count": 159,
   "metadata": {},
   "outputs": [
    {
     "data": {
      "text/plain": [
       "'// Not supported in C++:\\n// Derivative\\n// Derivative\\nalpha_2 = (1.0L/2.0L)*(I*Derivative(omega(t), t) + O_x*g*m*sin(theta_roll)*cos(theta_pitch) + O_y*g*m*sin(theta_pitch) - R_3x*b + R_3y*a - R_4x*b - R_4y*a - c*(R_3y + R_4y - g*m*sin(theta_roll)*cos(theta_pitch) - m*Derivative(v(t), t)))/c;'"
      ]
     },
     "execution_count": 159,
     "metadata": {},
     "output_type": "execute_result"
    }
   ],
   "source": [
    "vardef(\"alpha_1\", ap1_xpr)\n",
    "vardef(\"alpha_2\", ap2_xpr)"
   ]
  },
  {
   "cell_type": "markdown",
   "metadata": {},
   "source": [
    "# Drive Wheels"
   ]
  },
  {
   "cell_type": "code",
   "execution_count": 50,
   "metadata": {},
   "outputs": [],
   "source": [
    "v1 = v - w*c\n",
    "v2 = v + w*c\n",
    "Rf_1_xpr = Piecewise((-urd * N1, v1 > eps), (urd*N1, v1 < -eps), (0, True))\n",
    "Rf_2_xpr = Piecewise((-urd * N2, v2 > eps), (urd*N1, v2 < -eps), (0, True))\n",
    "\n",
    "Torque_1 = (ap1_xpr - Rf_1_xpr) * rdw\n",
    "Torque_2 = (ap2_xpr - Rf_2_xpr) * rdw"
   ]
  },
  {
   "cell_type": "code",
   "execution_count": 160,
   "metadata": {},
   "outputs": [
    {
     "data": {
      "text/plain": [
       "'// Not supported in C++:\\n// Derivative\\n// Derivative\\n// omega\\n// v\\ntorque_2 = r_dw*(-((c*omega(t) + v(t) > epsilon) ? (\\n   -N_2*mu_rd\\n)\\n: ((c*omega(t) + v(t) < -epsilon) ? (\\n   N_1*mu_rd\\n)\\n: (\\n   0\\n))) + (1.0L/2.0L)*(I*Derivative(omega(t), t) + O_x*g*m*sin(theta_roll)*cos(theta_pitch) + O_y*g*m*sin(theta_pitch) - R_3x*b + R_3y*a - R_4x*b - R_4y*a - c*(R_3y + R_4y - g*m*sin(theta_roll)*cos(theta_pitch) - m*Derivative(v(t), t)))/c);'"
      ]
     },
     "execution_count": 160,
     "metadata": {},
     "output_type": "execute_result"
    }
   ],
   "source": [
    "vardef(\"torque_1\", Torque_1)\n",
    "vardef(\"torque_2\", Torque_2)"
   ]
  },
  {
   "cell_type": "markdown",
   "metadata": {},
   "source": [
    "# Translating Sympy to Code"
   ]
  },
  {
   "cell_type": "code",
   "execution_count": 142,
   "metadata": {},
   "outputs": [],
   "source": [
    "def translate_str(s):\n",
    "    s3 = s.replace(\"Derivative(omega(t), t)\", \"omega_dot\")\n",
    "    s4 = s3.replace(\"Derivative(v(t), t)\", \"v_dot\")\n",
    "    s5 = s4.replace(\"(t)\", \"\")\n",
    "    s6 = s5.replace(\"// Not supported in C++:\\n\", \"\").replace(\"// Derivative\\n\", \"\")\n",
    "    s7 = s6.replace(\"// omega\\n\", \"\").replace(\"// v\\n\", \"\")\n",
    "    return s7"
   ]
  },
  {
   "cell_type": "code",
   "execution_count": 161,
   "metadata": {
    "scrolled": false
   },
   "outputs": [
    {
     "name": "stdout",
     "output_type": "stream",
     "text": [
      "// User must define omega and v\n",
      "a_3 = a + r_c * std::cos(theta_3)\n",
      "\n",
      "a_4 = a + r_c * std::cos(theta_4)\n",
      "\n",
      "b_3 = b - r_c * std::sin(theta_3)\n",
      "\n",
      "b_4 = b - r_c * std::sin(theta_4)\n",
      "\n",
      "zo = m*(g*(-n*std::pow(a_3*b_3 - a_4*b_4, 2) + (std::pow(b_3, 2) + std::pow(b_4, 2))*(std::pow(a_3, 2)*n + std::pow(a_4, 2)*n + 2*std::pow(c, 2)))*cos(theta_pitch)*cos(theta_roll) + n*((a_3 - a_4)*(std::pow(b_3, 2) + std::pow(b_4, 2)) - (b_3 + b_4)*(a_3*b_3 - a_4*b_4))*(O_x*g*cos(theta_pitch)*cos(theta_roll) + O_z*g*sin(theta_pitch) + O_z*omega_dot) + (n*(a_3 - a_4)*(a_3*b_3 - a_4*b_4) - (b_3 + b_4)*(std::pow(a_3, 2)*n + std::pow(a_4, 2)*n + 2*std::pow(c, 2)))*(-O_y*g*cos(theta_pitch)*cos(theta_roll) + std::pow(O_z, 2)*v_dot + O_z*g*sin(theta_roll)*cos(theta_pitch)))/(k*(std::pow(n, 2)*std::pow(a_3 - a_4, 2)*(std::pow(b_3, 2) + std::pow(b_4, 2)) - 2*std::pow(n, 2)*(a_3 - a_4)*(b_3 + b_4)*(a_3*b_3 - a_4*b_4) + n*std::pow(b_3 + b_4, 2)*(std::pow(a_3, 2)*n + std::pow(a_4, 2)*n + 2*std::pow(c, 2)) + 2*n*(n + 1)*std::pow(a_3*b_3 - a_4*b_4, 2) - 2*(std::pow(b_3, 2) + std::pow(b_4, 2))*(n + 1)*(std::pow(a_3, 2)*n + std::pow(a_4, 2)*n + 2*std::pow(c, 2))));\n",
      "\n",
      "theta = m*(-g*n*((a_3 - a_4)*(std::pow(b_3, 2) + std::pow(b_4, 2)) - (b_3 + b_4)*(a_3*b_3 - a_4*b_4))*cos(theta_pitch)*cos(theta_roll) + (n*std::pow(b_3 + b_4, 2) - 2*(std::pow(b_3, 2) + std::pow(b_4, 2))*(n + 1))*(O_x*g*cos(theta_pitch)*cos(theta_roll) + O_z*g*sin(theta_pitch) + O_z*omega_dot) + (n*(a_3 - a_4)*(b_3 + b_4) - 2*(n + 1)*(a_3*b_3 - a_4*b_4))*(-O_y*g*cos(theta_pitch)*cos(theta_roll) + std::pow(O_z, 2)*v_dot + O_z*g*sin(theta_roll)*cos(theta_pitch)))/(k*(std::pow(n, 2)*std::pow(a_3 - a_4, 2)*(std::pow(b_3, 2) + std::pow(b_4, 2)) - 2*std::pow(n, 2)*(a_3 - a_4)*(b_3 + b_4)*(a_3*b_3 - a_4*b_4) + n*std::pow(b_3 + b_4, 2)*(std::pow(a_3, 2)*n + std::pow(a_4, 2)*n + 2*std::pow(c, 2)) + 2*n*(n + 1)*std::pow(a_3*b_3 - a_4*b_4, 2) - 2*(std::pow(b_3, 2) + std::pow(b_4, 2))*(n + 1)*(std::pow(a_3, 2)*n + std::pow(a_4, 2)*n + 2*std::pow(c, 2))));\n",
      "\n",
      "phi = m*(-g*n*(n*(a_3 - a_4)*(a_3*b_3 - a_4*b_4) - (b_3 + b_4)*(std::pow(a_3, 2)*n + std::pow(a_4, 2)*n + 2*std::pow(c, 2)))*cos(theta_pitch)*cos(theta_roll) - n*(-n*(a_3 - a_4)*(b_3 + b_4) + 2*(n + 1)*(a_3*b_3 - a_4*b_4))*(O_x*g*cos(theta_pitch)*cos(theta_roll) + O_z*g*sin(theta_pitch) + O_z*omega_dot) + (std::pow(n, 2)*std::pow(a_3 - a_4, 2) - 2*(n + 1)*(std::pow(a_3, 2)*n + std::pow(a_4, 2)*n + 2*std::pow(c, 2)))*(-O_y*g*cos(theta_pitch)*cos(theta_roll) + std::pow(O_z, 2)*v_dot + O_z*g*sin(theta_roll)*cos(theta_pitch)))/(k*n*(std::pow(n, 2)*std::pow(a_3 - a_4, 2)*(std::pow(b_3, 2) + std::pow(b_4, 2)) - 2*std::pow(n, 2)*(a_3 - a_4)*(b_3 + b_4)*(a_3*b_3 - a_4*b_4) + n*std::pow(b_3 + b_4, 2)*(std::pow(a_3, 2)*n + std::pow(a_4, 2)*n + 2*std::pow(c, 2)) + 2*n*(n + 1)*std::pow(a_3*b_3 - a_4*b_4, 2) - 2*(std::pow(b_3, 2) + std::pow(b_4, 2))*(n + 1)*(std::pow(a_3, 2)*n + std::pow(a_4, 2)*n + 2*std::pow(c, 2))));\n",
      "\n",
      "N_1 = -c*k*theta - k*z_o;\n",
      "\n",
      "N_2 = c*k*theta - k*z_o;\n",
      "\n",
      "N_3 = -a_3*k*n*theta + b_3*k*n*phi - k*n*z_o;\n",
      "\n",
      "N_4 = a_4*k*n*theta + b_4*k*n*phi - k*n*z_o;\n",
      "\n",
      "if (std::pow(b, 2)*std::pow(omega, 2) + std::pow(-a*omega + v, 2) < epsilon) {\n",
      "   s_f3 = 0;\n",
      "}\n",
      "else {\n",
      "   s_f3 = (b*omega*cos(theta_3) + (-a*omega + v)*sin(theta_3))/std::sqrt(std::pow(b, 2)*std::pow(omega, 2) + std::pow(a*omega - v, 2));\n",
      "}\n",
      "\n",
      "if (std::pow(b, 2)*std::pow(omega, 2) + std::pow(-a*omega + v, 2) < epsilon) {\n",
      "   s_t3 = 0;\n",
      "}\n",
      "else {\n",
      "   s_t3 = (-b*r_c*omega*sin(theta_3) + r_c*(-a*omega + v)*cos(theta_3))/(r_c*std::sqrt(std::pow(b, 2)*std::pow(omega, 2) + std::pow(-a*omega + v, 2)));\n",
      "}\n",
      "\n",
      "if (std::pow(b, 2)*std::pow(omega, 2) + std::pow(a*omega + v, 2) < epsilon) {\n",
      "   s_f4 = 0;\n",
      "}\n",
      "else {\n",
      "   s_f4 = (b*omega*cos(theta_4) + (a*omega + v)*sin(theta_4))/std::sqrt(std::pow(b, 2)*std::pow(omega, 2) + std::pow(a*omega + v, 2));\n",
      "}\n",
      "\n",
      "if (std::pow(b, 2)*std::pow(omega, 2) + std::pow(-a*omega + v, 2) < epsilon) {\n",
      "   s_t4 = 0;\n",
      "}\n",
      "else {\n",
      "   s_t4 = (-b*r_c*omega*sin(theta_4) + r_c*(a*omega + v)*cos(theta_4))/(r_c*std::sqrt(std::pow(b, 2)*std::pow(omega, 2) + std::pow(a*omega + v, 2)));\n",
      "}\n",
      "\n",
      "R_3x = ((s_f3 > epsilon) ? (\n",
      "   -N_3*mu_rc*cos(theta_3)\n",
      ")\n",
      ": ((s_f3 < -epsilon) ? (\n",
      "   N_3*mu_rc*cos(theta_3)\n",
      ")\n",
      ": (\n",
      "   0\n",
      "))) + ((s_t3 < -epsilon) ? (\n",
      "   -N_3*mu_tau*sin(theta_3)\n",
      ")\n",
      ": ((s_t3 > epsilon) ? (\n",
      "   N_3*mu_tau*sin(theta_3)\n",
      ")\n",
      ": (\n",
      "   0\n",
      ")));\n",
      "\n",
      "R_3y = ((s_f3 > epsilon) ? (\n",
      "   -N_3*mu_rc*sin(theta_3)\n",
      ")\n",
      ": ((s_f3 < -epsilon) ? (\n",
      "   N_3*mu_rc*sin(theta_3)\n",
      ")\n",
      ": (\n",
      "   0\n",
      "))) + ((s_t4 < -epsilon) ? (\n",
      "   N_4*mu_tau*cos(theta_4)\n",
      ")\n",
      ": ((s_t4 > epsilon) ? (\n",
      "   -N_4*mu_tau*cos(theta_4)\n",
      ")\n",
      ": (\n",
      "   0\n",
      ")));\n",
      "\n",
      "R_4x = ((s_f4 > epsilon) ? (\n",
      "   -N_4*mu_rc*cos(theta_4)\n",
      ")\n",
      ": ((s_f4 < -epsilon) ? (\n",
      "   N_4*mu_rc*cos(theta_4)\n",
      ")\n",
      ": (\n",
      "   0\n",
      "))) + ((s_t4 < -epsilon) ? (\n",
      "   -N_4*mu_tau*sin(theta_4)\n",
      ")\n",
      ": ((s_t4 > epsilon) ? (\n",
      "   N_4*mu_tau*sin(theta_4)\n",
      ")\n",
      ": (\n",
      "   0\n",
      ")));\n",
      "\n",
      "R_4y = ((s_f4 > epsilon) ? (\n",
      "   -N_4*mu_rc*sin(theta_4)\n",
      ")\n",
      ": ((s_f4 < -epsilon) ? (\n",
      "   N_4*mu_rc*sin(theta_4)\n",
      ")\n",
      ": (\n",
      "   0\n",
      "))) + ((s_t4 < -epsilon) ? (\n",
      "   N_4*mu_tau*cos(theta_4)\n",
      ")\n",
      ": ((s_t4 > epsilon) ? (\n",
      "   -N_4*mu_tau*cos(theta_4)\n",
      ")\n",
      ": (\n",
      "   0\n",
      ")));\n",
      "\n",
      "alpha_1 = -1.0L/2.0L*(I*omega_dot + O_x*g*m*sin(theta_roll)*cos(theta_pitch) + O_y*g*m*sin(theta_pitch) - R_3x*b + R_3y*a + R_3y*c - R_4x*b - R_4y*a + R_4y*c - c*g*m*sin(theta_roll)*cos(theta_pitch) - c*m*v_dot)/c;\n",
      "\n",
      "alpha_2 = (1.0L/2.0L)*(I*omega_dot + O_x*g*m*sin(theta_roll)*cos(theta_pitch) + O_y*g*m*sin(theta_pitch) - R_3x*b + R_3y*a - R_4x*b - R_4y*a - c*(R_3y + R_4y - g*m*sin(theta_roll)*cos(theta_pitch) - m*v_dot))/c;\n",
      "\n",
      "torque_1 = r_dw*(-((-c*omega + v > epsilon) ? (\n",
      "   -N_1*mu_rd\n",
      ")\n",
      ": ((-c*omega + v < -epsilon) ? (\n",
      "   N_1*mu_rd\n",
      ")\n",
      ": (\n",
      "   0\n",
      "))) - 1.0L/2.0L*(I*omega_dot + O_x*g*m*sin(theta_roll)*cos(theta_pitch) + O_y*g*m*sin(theta_pitch) - R_3x*b + R_3y*a + R_3y*c - R_4x*b - R_4y*a + R_4y*c - c*g*m*sin(theta_roll)*cos(theta_pitch) - c*m*v_dot)/c);\n",
      "\n",
      "torque_2 = r_dw*(-((c*omega + v > epsilon) ? (\n",
      "   -N_2*mu_rd\n",
      ")\n",
      ": ((c*omega + v < -epsilon) ? (\n",
      "   N_1*mu_rd\n",
      ")\n",
      ": (\n",
      "   0\n",
      "))) + (1.0L/2.0L)*(I*omega_dot + O_x*g*m*sin(theta_roll)*cos(theta_pitch) + O_y*g*m*sin(theta_pitch) - R_3x*b + R_3y*a - R_4x*b - R_4y*a - c*(R_3y + R_4y - g*m*sin(theta_roll)*cos(theta_pitch) - m*v_dot))/c);\n",
      "\n",
      "\n"
     ]
    }
   ],
   "source": [
    "filestr = \"// User must define omega and v\\n\"\n",
    "for s in get_all():\n",
    "    filestr += translate_str(s) + \"\\n\" * 2\n",
    "\n",
    "print(filestr)\n"
   ]
  },
  {
   "cell_type": "code",
   "execution_count": 34,
   "metadata": {},
   "outputs": [],
   "source": [
    "funcstr = \"\"\"import numpy as np\n",
    "from numpy import cos, sin, sqrt, array\n",
    "\n",
    "a = 0.2\n",
    "b = 0.4\n",
    "c = 0.2\n",
    "r_c = 0.05\n",
    "r_dw = 0.1\n",
    "m = 230\n",
    "n = 100\n",
    "mu_rc = 0.01\n",
    "mu_rd = 0.08\n",
    "mu_tau = 0.02\n",
    "\n",
    "O_x, O_y, O_z = 0, -0.1, 0.25\n",
    "\n",
    "epsilon = 0.03\n",
    "\n",
    "def calc(roll, pitch, theta_3, theta_4, v, v_dot, omega, omega_dot, a=a, b=b, c=c, r_c=r_c, r_dw=r_dw, m=m, n=n, epsilon=epsilon, mu_rc=mu_rc, mu_rd=mu_rd, mu_tau=mu_tau,\n",
    "         O_x=O_x, o_y = O_y, O_z = O_z):\n",
    "    theta_pitch = pitch\n",
    "    theta_roll = roll\n",
    "    I = m*(4*c**2 + b**2)/12\n",
    "    g = 9.8\n",
    "\"\"\"\n",
    "for s in get_all():\n",
    "    funcstr += \"    \" + translate_str(s) + '\\n'\n",
    "    \n",
    "funcstr += \"\"\"\n",
    "    d = {'N1': N_1, 'N2': N_2, 'N3': N_3, 'N4': N_4, 'sf3': s_f3, 'sf4': s_f4, 'st3': s_t3, 'st4': s_t4, 'R3x': R_3x, 'R3y': R_3y,\n",
    "         'R4x': R_4x, 'R4y': R_4y, 'a1': alpha_1, 'a2': alpha_2, 'torque_1': torque_1, 'torque_2': torque_2}\n",
    "    return d\"\"\"\n",
    "\n",
    "if (False) :\n",
    "    print(funcstr)\n",
    "else:\n",
    "    f = open('WheelchairFunc.py', 'w+')\n",
    "    f.write(funcstr)\n",
    "    f.close()"
   ]
  },
  {
   "cell_type": "code",
   "execution_count": null,
   "metadata": {},
   "outputs": [],
   "source": []
  },
  {
   "cell_type": "code",
   "execution_count": null,
   "metadata": {},
   "outputs": [],
   "source": []
  }
 ],
 "metadata": {
  "kernelspec": {
   "display_name": "Python 3",
   "language": "python",
   "name": "python3"
  },
  "language_info": {
   "codemirror_mode": {
    "name": "ipython",
    "version": 3
   },
   "file_extension": ".py",
   "mimetype": "text/x-python",
   "name": "python",
   "nbconvert_exporter": "python",
   "pygments_lexer": "ipython3",
   "version": "3.6.5"
  }
 },
 "nbformat": 4,
 "nbformat_minor": 2
}
